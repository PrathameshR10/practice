{
 "cells": [
  {
   "cell_type": "code",
   "execution_count": 15,
   "id": "74e21dab",
   "metadata": {},
   "outputs": [
    {
     "name": "stdout",
     "output_type": "stream",
     "text": [
      "Enter your number: 50\n"
     ]
    },
    {
     "data": {
      "text/plain": [
       "30414093201713378043612608166064768844377641568960512000000000000"
      ]
     },
     "execution_count": 15,
     "metadata": {},
     "output_type": "execute_result"
    }
   ],
   "source": [
    "def factorial():\n",
    "    n = int(input(\"Enter your number: \"))\n",
    "    f = 1\n",
    "    if n < 0:\n",
    "        print(\"Undefined\")\n",
    "    elif n == 0:\n",
    "        return \"Factorial of 0 is 1\"\n",
    "    elif n > 0:\n",
    "        for i in range (1, n + 1):\n",
    "            f *= i\n",
    "        return f\n",
    "\n",
    "factorial()"
   ]
  }
 ],
 "metadata": {
  "kernelspec": {
   "display_name": "Python 3 (ipykernel)",
   "language": "python",
   "name": "python3"
  },
  "language_info": {
   "codemirror_mode": {
    "name": "ipython",
    "version": 3
   },
   "file_extension": ".py",
   "mimetype": "text/x-python",
   "name": "python",
   "nbconvert_exporter": "python",
   "pygments_lexer": "ipython3",
   "version": "3.11.4"
  }
 },
 "nbformat": 4,
 "nbformat_minor": 5
}
